{
 "cells": [
  {
   "cell_type": "markdown",
   "metadata": {},
   "source": [
    "Table of Contents\n",
    "1.\tIntroduction\n",
    "2.\tMathematical Model  \n",
    "    A. The choice of the Data  \n",
    "    B. Tradeoff in weighing students' adaptability  \n",
    "3.\tSolution\n",
    "4.\tResults and Discussion\n",
    "5.\tConclusion\n",
    "6.\tAppendix\n"
   ]
  },
  {
   "cell_type": "markdown",
   "metadata": {},
   "source": [
    "# 1. Introduction"
   ]
  },
  {
   "cell_type": "markdown",
   "metadata": {},
   "source": [
    "Since every student is able to indicate their preferences for dormitory and roommate, our passion is to build up a better assignment system to get a better sense of the student’s preferences. This helps us find the best possible match for each student. The objective of our project is to rationalize the assignment and maximize their satisfaction based on certain constraints and rules, such as capacity of the halls, room availability, distance to the department buildings and the gender of students. The preference options for students also can be counted as a big factor including the most acceptable price, the floor level, and the canteen. In this model, we will consider how much weight a student will value each aspect of a dormitory. For convenience, the data of student's preference and dormitory attributes will be created randomly."
   ]
  },
  {
   "cell_type": "markdown",
   "metadata": {},
   "source": [
    "# 2.\tMathematical Model"
   ]
  },
  {
   "cell_type": "markdown",
   "metadata": {},
   "source": [
    "## A. The choice of the Data"
   ]
  },
  {
   "cell_type": "markdown",
   "metadata": {},
   "source": [
    "Due to no accessibility of UW-Madison's Housing system and conveniece, we implement a data generator in replacement of certain parameters. With the help of 'Distrubutions', we crate a function to adapt the dorm adaptbility. In this model, we desires datas as close as possible so we listed as many data we can think of, and endow them with our desirable distribution.  \n",
    "Below are the random parameteres that we set for the residence hall's attributes and their distribution."
   ]
  },
  {
   "cell_type": "markdown",
   "metadata": {},
   "source": [
    "| Dorm attribute |   Distribution   | Data Type |\n",
    "| -------------  |:--------------:  | ---------:|\n",
    "| floor          | Uniform(1, 6)    | int       |\n",
    "| price          | Normal(1000, 100)| int       |\n",
    "| capacity       | Uniform(1, 5)    | int       |\n",
    "| canteen        | Bernoulli(0.5)   | bool      |"
   ]
  },
  {
   "cell_type": "markdown",
   "metadata": {},
   "source": [
    "The floor is distributed uniformly so our model use the uniform distribution to forge the parameters and we take the highest floor to be 6 as default. For the price we considered that the average rent for housing is around 4400 per semester.  \n",
    "[UW-Madison Housing Price,https://www.housing.wisc.edu/residence-halls/billing/quarterly-rates]  \n",
    "The capacity of a dorm is uiformily distributed between 1 and 5. For the canteen, It could be either close to a canteen or miles away, so we create a Bernoulli distrubution to express the value.  \n",
    "Below are the random parameteres that we set for the students information and its distribution."
   ]
  },
  {
   "cell_type": "markdown",
   "metadata": {},
   "source": [
    "| Student Attribute  |   Distribution    | Data Type |\n",
    "| -------------  |:-----------------:| ---------:|\n",
    "| gender         | Bernoulli(0.5)*2-1| 1 or -1   |\n",
    "| floor          | Uniform(1, 6)     | int       |\n",
    "| price          | Normal(1000, 100) | int       |\n",
    "| capacity       | Uniform(1, 2)     | int       |\n",
    "| canteen        | Bernoulli(0.5)    | bool      |"
   ]
  },
  {
   "cell_type": "markdown",
   "metadata": {},
   "source": [
    "Because to assign a student we hope that even students can have a preference not only limited to the house but also to his dormmate. First of all we take his dormmate's major into consideration that his major could be similiar to him so that they can talk more about their academic stuffs, or he wants diversity in the dorm, it also works only by turning into most different solution. For grades we can still make it diverse or similar depedent on the manager's will. Of course gender keeps the same in one dorm, the reason why we keep it 1 or -1 we will talk about it later.  \n",
    "As for his preference, he could choose the preferred floor and whether he is willing to live seperately or he wishes to share his room. We consider the price to be one of the constraints that must be below the most affordable price, otherwise it's certain that the student would choose elsewhere to go."
   ]
  },
  {
   "cell_type": "markdown",
   "metadata": {},
   "source": [
    "## B. Tradeoff in weighing students' adaptability"
   ]
  },
  {
   "cell_type": "markdown",
   "metadata": {},
   "source": [
    "a.Maximize the satisfaction of floor choice  \n",
    "b.Maximize the satisfaction of canteen  \n",
    "c.Maximize the satisfaction of schedule table  \n",
    "d.Tradeoff on the overall prefernce "
   ]
  },
  {
   "cell_type": "markdown",
   "metadata": {},
   "source": [
    "a.Maximize the satisfaction of floor choice  \n",
    "Assume the 'floor' is  \n",
    "$floor = \\sum_{n=1}^{M} (dormFloor-floorPreference)^{2}$  \n",
    "where preference stands for the studentpreference who has been already assigned to a certain room."
   ]
  },
  {
   "cell_type": "markdown",
   "metadata": {},
   "source": [
    "b.Maximize the satisfaction of canteen   \n",
    "Assume the 'canteen' is where canteen stands for whether the dorm is adjencent to a canteen or not. To determine that the preference should be match the final so that we can get a '1', the truth table is as follow"
   ]
  },
  {
   "cell_type": "markdown",
   "metadata": {},
   "source": [
    "| preference  |   dormCanteen     | result    |  note        |\n",
    "|-------------|:-----------------:|: --------:| ------------:|\n",
    "| 0           | 0                 | 0         | don't care   |\n",
    "| 0           | 1                 | 0         | don't care   |\n",
    "| 1           | 0                 | -1        | not satisfied|\n",
    "| 1           | 1                 | 1         | satisfied    |"
   ]
  },
  {
   "cell_type": "markdown",
   "metadata": {},
   "source": [
    "We can measure that  \n",
    "$ v = x * (2y - 1)  $  \n",
    "so  \n",
    "$floor = \\sum_{n=1}^{M} 2*canteenPreference.*dormCanteen - canteenPreference$"
   ]
  },
  {
   "cell_type": "markdown",
   "metadata": {},
   "source": [
    "c.Maximize the satisfaction of schedule table"
   ]
  },
  {
   "cell_type": "markdown",
   "metadata": {},
   "source": [
    "# 3.Solution"
   ]
  },
  {
   "cell_type": "markdown",
   "metadata": {},
   "source": [
    "Still we need to add different coefficient to measure if the result changes when we have different λk. We will testify the final result using different λk.  \n",
    "We used Distrubutions library to implement the random datas that fit the real world numbers. The process i have stated already before, and we have a function prodRandInfo to generator the whole matrix that we will use including both students' information and dorm information.  \n",
    "In this section, we implement our models in Julia + JuMp + Cbc + Gurobi and solve it. Due to some Integer variables such as boolen variables and it's a non-linear model, we have to choose Cbc and Gurobio as our solver. we also write some function to measure ... \n",
    "We will add some explanation before each function to explain the use of it."
   ]
  },
  {
   "cell_type": "markdown",
   "metadata": {},
   "source": [
    "a) Produce the data of student's preference and dormitory's attributes"
   ]
  },
  {
   "cell_type": "code",
   "execution_count": 23,
   "metadata": {
    "collapsed": true
   },
   "outputs": [],
   "source": [
    "# produce random data\n",
    "# matrix 1: Student info\n",
    "# matrix 2: Dormitory info\n",
    "using Distributions\n",
    "\n",
    "function prodRandInfo(num_stud, num_dorm)\n",
    "    # fill in StudInfo matrix\n",
    "    major = rand(DiscreteUniform(1, 10), num_stud)   # int\n",
    "    gender = rand(Bernoulli(0.5), num_stud)*2-1      # 1 or -1\n",
    "    grade = rand(DiscreteUniform(1, 4), num_stud)    # int\n",
    "    floor = rand(DiscreteUniform(1, 6), num_stud)    # int \n",
    "    price = round.(rand(Normal(600, 100), num_stud))  # int\n",
    "    single = rand(DiscreteUniform(1, 2), num_stud)   # int\n",
    "    canteen = rand(Bernoulli(0.5), num_stud)         # bool\n",
    "    schedule_sleep = round.(rand(Normal(23, 2), num_stud))  # int\n",
    "    schedule_wake = round.(rand(Normal(7, 2), num_stud))  # int\n",
    "    floor_rank = rand(DiscreteUniform(1, 10), num_stud) \n",
    "    price_rank= rand(DiscreteUniform(1, 10), num_stud)\n",
    "    canteen_rank= rand(DiscreteUniform(1, 10), num_stud)\n",
    "    StudInfo = hcat(major, gender, grade, floor, price, single, canteen,schedule_sleep,schedule_wake, floor_rank, price_rank, canteen_rank)\n",
    "        \n",
    "    # fill in DormInfo matrix\n",
    "    floor = rand(DiscreteUniform(1, 6), num_dorm)     # int\n",
    "    price = round.(rand(Normal(600, 100), num_dorm))   # int\n",
    "    capacity = rand(DiscreteUniform(1, 2), num_dorm)  # int\n",
    "    canteen = rand(Bernoulli(0.5), num_dorm)          # int\n",
    "    number = rand(DiscreteUniform(1, 4), num_dorm) #int\n",
    "    DormInfo = hcat(floor, price, capacity, canteen,number)\n",
    "    \n",
    "    return reshape(StudInfo,(num_stud,12)), reshape(DormInfo,(num_dorm,5))\n",
    "end;"
   ]
  },
  {
   "cell_type": "markdown",
   "metadata": {},
   "source": [
    "b) Generate the information matrix"
   ]
  },
  {
   "cell_type": "code",
   "execution_count": 24,
   "metadata": {
    "collapsed": true
   },
   "outputs": [],
   "source": [
    "N=10;#number of student\n",
    "M=100;#number of dormitary\n",
    "StudInfo, DormInfo = prodRandInfo(N, M);"
   ]
  },
  {
   "cell_type": "markdown",
   "metadata": {},
   "source": [
    "c) Model and solve the problem"
   ]
  },
  {
   "cell_type": "code",
   "execution_count": 42,
   "metadata": {},
   "outputs": [],
   "source": [
    "using JuMP, Cbc, Gurobi, InformationMeasures\n",
    "function solveopt1(λ1,λ2,λ3,λ4)\n",
    "m = Model(solver = GurobiSolver(OutputFlag=0))\n",
    "\n",
    "# assignment[i,j]=1: student(i) is assigned to dormitary(j)\n",
    "@variable(m, Assignment[1:N,1:M]>=0,Bin)\n",
    "\n",
    "# z[i]==1 means dorm i is allocated\n",
    "@variable(m, z[1:M], Bin)\n",
    "\n",
    "#every student is assigned no more than 1 room\n",
    "@constraint(m, constr[i =1:N], sum( Assignment[i,j] for j=1:M ) ==1)\n",
    "\n",
    "#every room have the same gender\n",
    "@constraint(m, constr2[j=1:M], (Assignment[:,j]'* StudInfo[:,2])^2== sum(Assignment[:,j])^2)\n",
    "\n",
    "#capacity\n",
    "@constraint(m,constr3[j=1:M],sum(Assignment[i,j] for i in 1:N) <= DormInfo[j,3])\n",
    "\n",
    "#price\n",
    "for i=1:N\n",
    "    for j=1:M\n",
    "        @constraint(m,DormInfo[j,2]-StudInfo[i,5] <= 100000*(1-Assignment[i,j]))\n",
    "    end\n",
    "end\n",
    "\n",
    "#floor\n",
    "@expression(m,Floor,sum(StudInfo[:,10].*(StudInfo[:,4].-Assignment*DormInfo[:,1]).^2));\n",
    "\n",
    "#canteen\n",
    "@expression(m,Canteen,sum(StudInfo[:,12].*(2*StudInfo[:,7].*Assignment*DormInfo[:,4].-StudInfo[:,7])));\n",
    "\n",
    "#budget\n",
    "@expression(m,Budget,sum(StudInfo[:,11].*(StudInfo[:,5]-Assignment*DormInfo[:,2])))\n",
    "\n",
    "#satisfaction of student\n",
    "@expression(m,Satisfaction,λ1*Canteen-λ2*Floor+Budget)\n",
    "    \n",
    "#trade off objective\n",
    "@objective(m, Max,λ3*Satisfaction)\n",
    "\n",
    "state=solve(m)\n",
    "    \n",
    "result_Satisfaction = getvalue(Satisfaction)\n",
    "result_Assignment = getvalue(Assignment)\n",
    "obj= getobjectivevalue(m)  \n",
    "    \n",
    "return (result_Satisfaction,obj, result_Assignment)\n",
    "end;"
   ]
  },
  {
   "cell_type": "markdown",
   "metadata": {},
   "source": [
    "d) Add trade off with students' satisfaction and dormitory's profit"
   ]
  },
  {
   "cell_type": "code",
   "execution_count": 43,
   "metadata": {
    "collapsed": true
   },
   "outputs": [],
   "source": [
    "using JuMP, Cbc, Gurobi, InformationMeasures\n",
    "function solveopt2(λ1,λ2,λ3,λ4)\n",
    "m = Model(solver = GurobiSolver(OutputFlag=0))\n",
    "\n",
    "# assignment[i,j]=1: student(i) is assigned to dormitary(j)\n",
    "@variable(m, Assignment[1:N,1:M]>=0,Bin)\n",
    "\n",
    "# z[i]==1 means dorm i is allocated\n",
    "@variable(m, z[1:M], Bin)\n",
    "\n",
    "#every student is assigned no more than 1 room\n",
    "@constraint(m, constr[i =1:N], sum( Assignment[i,j] for j=1:M ) ==1)\n",
    "\n",
    "#every room have the same gender\n",
    "@constraint(m, constr2[j=1:M], (Assignment[:,j]'* StudInfo[:,2])^2== sum(Assignment[:,j])^2)\n",
    "\n",
    "#capacity\n",
    "@constraint(m,constr3[j=1:M],sum(Assignment[i,j] for i in 1:N) <= DormInfo[j,3])\n",
    "\n",
    "#price\n",
    "for i=1:N\n",
    "    for j=1:M\n",
    "        @constraint(m,DormInfo[j,2]-StudInfo[i,5] <= 100000*(1-Assignment[i,j]))\n",
    "    end\n",
    "end\n",
    "\n",
    "#floor\n",
    "@expression(m,Floor,sum(StudInfo[:,10].*(StudInfo[:,4].-Assignment*DormInfo[:,1]).^2));\n",
    "\n",
    "#canteen\n",
    "@expression(m,Canteen,sum(StudInfo[:,12].*(2*StudInfo[:,7].*Assignment*DormInfo[:,4].-StudInfo[:,7])));\n",
    "\n",
    "#budget\n",
    "@expression(m,Budget,sum(StudInfo[:,11].*(StudInfo[:,5]-Assignment*DormInfo[:,2])))\n",
    "\n",
    "#satisfaction of student\n",
    "@expression(m,Satisfaction,λ1*Canteen-λ2*Floor+Budget)\n",
    "\n",
    "#income of dormitory\n",
    "@expression(m,Income,sum(Assignment*DormInfo[:,2]))\n",
    "\n",
    "#cost of dormitory\n",
    "for j in 1:M\n",
    "    @constraint(m, ones(1,N)*Assignment[:,j] - 1 .<= N*z[j] - 0.00001(1 - z[j]))\n",
    "end\n",
    "@expression(m,Cost,sum((ones(M,1)-z).*DormInfo[:,2]))\n",
    "\n",
    "#profit of dormitory\n",
    "@expression(m,Profit,Income-Cost)\n",
    "\n",
    "    \n",
    "#trade off objective\n",
    "@objective(m, Max,λ3*Satisfaction+λ4*Profit)\n",
    "\n",
    "state=solve(m)\n",
    "    \n",
    "result_Budget= getvalue(Budget)   \n",
    "result_Profit= getvalue(Profit)\n",
    "result_Satisfaction = getvalue(Satisfaction)\n",
    "result_Assignment = getvalue(Assignment)\n",
    "obj= getobjectivevalue(m)  \n",
    "    \n",
    "return (result_Satisfaction,result_Profit,obj, result_Assignment)\n",
    "end;"
   ]
  },
  {
   "cell_type": "markdown",
   "metadata": {},
   "source": [
    "e) Plot the pareto optimal trade off curve"
   ]
  },
  {
   "cell_type": "code",
   "execution_count": 44,
   "metadata": {},
   "outputs": [
    {
     "data": {
      "image/png": "[encoded data removed]",
      "text/plain": [
       "PyPlot.Figure(PyObject <matplotlib.figure.Figure object at 0x13ce10c90>)"
      ]
     },
     "metadata": {},
     "output_type": "display_data"
    },
    {
     "name": "stdout",
     "output_type": "stream",
     "text": [
      "Academic license - for non-commercial use only\n",
      "Academic license - for non-commercial use only\n",
      "Academic license - for non-commercial use only\n",
      "Academic license - for non-commercial use only\n",
      "Academic license - for non-commercial use only\n",
      "Academic license - for non-commercial use only\n",
      "Academic license - for non-commercial use only\n",
      "Academic license - for non-commercial use only\n",
      "Academic license - for non-commercial use only\n",
      "Academic license - for non-commercial use only\n",
      "Academic license - for non-commercial use only\n",
      "Academic license - for non-commercial use only\n",
      "Academic license - for non-commercial use only\n",
      "Academic license - for non-commercial use only\n",
      "Academic license - for non-commercial use only\n"
     ]
    }
   ],
   "source": [
    "Npts = 15\n",
    "Profit = zeros(Npts)\n",
    "Satisfaction = zeros(Npts)\n",
    "\n",
    "verbose = false\n",
    "\n",
    "for (i,λ) in enumerate(logspace(-2,4,Npts))\n",
    "    (Satisfaction[i],Profit[i],obj, assign) = solveopt2(100, 100, λ, 10000-λ)\n",
    "    if (verbose)\n",
    "        println(\"i: \", i)\n",
    "        println(Budget[i])\n",
    "        println(Profit[i])\n",
    "    end\n",
    "end;\n",
    "using PyPlot\n",
    "figure(figsize=(8,4))\n",
    "plot( Satisfaction, Profit, \"r.-\" )\n",
    "xlabel(L\"Satisfaction\")\n",
    "ylabel(L\"Profit\");\n",
    "title(\"Pareto curve for Satisfaction and Profit\")\n",
    "grid()"
   ]
  },
  {
   "cell_type": "code",
   "execution_count": 47,
   "metadata": {},
   "outputs": [
    {
     "name": "stdout",
     "output_type": "stream",
     "text": [
      "Academic license - for non-commercial use only\n"
     ]
    }
   ],
   "source": [
    "num_of_buildings = 10\n",
    "building_loc=[]\n",
    "for i in 1:num_of_buildings\n",
    "    pos_x = rand(DiscreteUniform(-20, 20), num_of_buildings)\n",
    "    pos_y = rand(DiscreteUniform(-20, 20), num_of_buildings)\n",
    "    building_loc = hcat(pos_x, pos_y)\n",
    "end;\n",
    "\n",
    "λ=0\n",
    "(a,b,c, assign) = solveopt2(100, 100, λ, 10000-λ);"
   ]
  },
  {
   "cell_type": "code",
   "execution_count": 48,
   "metadata": {},
   "outputs": [
    {
     "data": {
      "image/png": "[encoded data removed]",
      "text/plain": [
       "PyPlot.Figure(PyObject <matplotlib.figure.Figure object at 0x13bd58910>)"
      ]
     },
     "metadata": {},
     "output_type": "display_data"
    },
    {
     "name": "stdout",
     "output_type": "stream",
     "text": [
      "Academic license - for non-commercial use only\n"
     ]
    },
    {
     "data": {
      "text/plain": [
       "PyObject <matplotlib.text.Text object at 0x13e08dc50>"
      ]
     },
     "execution_count": 48,
     "metadata": {},
     "output_type": "execute_result"
    }
   ],
   "source": [
    "building_num = []\n",
    "people_count=ones(1,10)\n",
    "\n",
    "for i in 1:N\n",
    "    push!(building_num, Int(sum(assign[i,:].*DormInfo[:,5])))\n",
    "    people_count[Int(sum(assign[i,:].*DormInfo[:,5]))]+=1\n",
    "end\n",
    "\n",
    "using JuMP, Cbc, Gurobi\n",
    "m = Model(solver = GurobiSolver(OutputFlag=0))\n",
    "\n",
    "@variable(m, loc[1:2])\n",
    "\n",
    "@expression(m, dist_sum, sum( (building_loc[building_num[i],1]-loc[1])^2+(building_loc[building_num[i],2]-loc[2])^2 for i=1:N))\n",
    "\n",
    "@objective(m, Min, dist_sum)\n",
    "\n",
    "state=solve(m)\n",
    "\n",
    "using PyPlot\n",
    "figure(figsize=(8,4));\n",
    "scatter(building_loc[:,1], building_loc[:,2], s=people_count*200,alpha=1 );\n",
    "x_result=getvalue(loc[1])\n",
    "y_result=getvalue(loc[2])\n",
    "plot(x_result, y_result, \"r*\" );\n",
    "xlabel(\"x\");\n",
    "ylabel(\"y\");\n",
    "title(\"location\")"
   ]
  },
  {
   "cell_type": "markdown",
   "metadata": {},
   "source": [
    "# 4.\tResults and Discussion"
   ]
  },
  {
   "cell_type": "markdown",
   "metadata": {},
   "source": [
    "Through all the variables we've made, we decided to make λ1×Canteen-λ2×Floor+Budget to be satisfaction index, and the Income to be the profit UW-Madison made. We make a tradeoff between the satisfaction index and profit index so that and make a Pareto curve for Satisfaction and Profit. From the figure we could tell that the more satisfaction the students are, the less profit the univerisity could make. It makes sense because technically."
   ]
  },
  {
   "cell_type": "markdown",
   "metadata": {},
   "source": [
    "# 5.\tConclusion"
   ]
  },
  {
   "cell_type": "markdown",
   "metadata": {},
   "source": [
    "In this model, we use a lot of expression to represent distinctive influence factor. In the beginning, we start to list the factor that could have an effect on the objective. Our basic idea is to find the least entropy where students can be adapted to an ideal dorm while enjoying the least enviornment factor from their imagination. So our project started from the constraints which stressed the relationship between students and dorm qualification. However, when we dealt with relationship between the students, it became a mystery that both Gurobi and Cbc couldn't solve. For example, we thought students may have some requirement on their dormate's time table, or students may expect their dormates to be in the same/different major, or to increase the diversity of the dorm, students with the same/different grades could be directed to the same room. However, when we actuallt went deeper into programming, it becomes desperate that Cbcsolver and Gurobisolver couldn't make it through and We later knew that it couldn't solver division NL program. Because we have to use the to calculate the mean of a dorm or entropy to figure out the chaos level, we had to calculate the sum of our variable(the dorm-student matrix)."
   ]
  },
  {
   "cell_type": "markdown",
   "metadata": {},
   "source": [
    "then we decided to turn back to solving the tradeoffs to indicate the best optimal. In the first"
   ]
  },
  {
   "cell_type": "markdown",
   "metadata": {},
   "source": [
    "setbacks  \n",
    "The problem we have found is that if the seats that all dorms can provide get close to the number of the student, the change of trade coefficient λ doesn't actually make a fix towards the original distribution, which couldn't be optimally solved for times."
   ]
  },
  {
   "cell_type": "markdown",
   "metadata": {},
   "source": [
    "# 6.\tAppendix"
   ]
  },
  {
   "cell_type": "code",
   "execution_count": null,
   "metadata": {
    "collapsed": true
   },
   "outputs": [],
   "source": []
  }
 ],
 "metadata": {
  "kernelspec": {
   "display_name": "Julia 0.6.2",
   "language": "julia",
   "name": "julia-0.6"
  },
  "language_info": {
   "file_extension": ".jl",
   "mimetype": "application/julia",
   "name": "julia",
   "version": "0.6.2"
  }
 },
 "nbformat": 4,
 "nbformat_minor": 2
}
